{
  "nbformat": 4,
  "nbformat_minor": 0,
  "metadata": {
    "colab": {
      "provenance": [],
      "include_colab_link": true
    },
    "kernelspec": {
      "name": "python3",
      "display_name": "Python 3"
    },
    "language_info": {
      "name": "python"
    }
  },
  "cells": [
    {
      "cell_type": "markdown",
      "metadata": {
        "id": "view-in-github",
        "colab_type": "text"
      },
      "source": [
        "<a href=\"https://colab.research.google.com/github/fadhilhamdi/Pembelajaran-Mesin_Muhammad-Fadhil-Hamdi_2211533018/blob/main/hierarkiclustering_ML.ipynb\" target=\"_parent\"><img src=\"https://colab.research.google.com/assets/colab-badge.svg\" alt=\"Open In Colab\"/></a>"
      ]
    },
    {
      "cell_type": "code",
      "execution_count": null,
      "metadata": {
        "id": "JQtNtUO7QGeR"
      },
      "outputs": [],
      "source": [
        "import numpy as np\n",
        "import pandas as pd\n",
        "import matplotlib.pyplot as plt\n",
        "from sklearn.cluster import KMeans\n",
        "from sklearn.preprocessing import StandardScaler"
      ]
    },
    {
      "cell_type": "code",
      "source": [
        "def divisive_clustering(X, n_clusters):\n",
        "    clusters = [X]\n",
        "    while len(clusters) < n_clusters:\n",
        "        # Find the largest cluster\n",
        "        largest_cluster = max(clusters, key=len)\n",
        "        clusters.remove(largest_cluster)\n",
        "\n",
        "        # Split the largest cluster into two using k-means\n",
        "        kmeans = KMeans(n_clusters=2, random_state=0).fit(largest_cluster)\n",
        "        labels = kmeans.labels_\n",
        "\n",
        "        # Append the two clusters to the list of clusters\n",
        "        clusters.append(largest_cluster[labels == 0])\n",
        "        clusters.append(largest_cluster[labels == 1])\n",
        "\n",
        "    return clusters"
      ],
      "metadata": {
        "id": "9VdO2IjDSXJJ"
      },
      "execution_count": null,
      "outputs": []
    },
    {
      "cell_type": "code",
      "source": [
        "def plot_clusters(clusters):\n",
        "    colors = ['r', 'g', 'b', 'c', 'm', 'y', 'k']\n",
        "    for idx, cluster in enumerate(clusters):\n",
        "        plt.scatter(cluster[:, 0], cluster[:, 1], c=colors[idx % len(colors)])\n",
        "    plt.title(\"Divisive Hierarchical Clustering\")\n",
        "    plt.xlabel('currentSmoker')\n",
        "    plt.ylabel('age')\n",
        "    plt.show()\n"
      ],
      "metadata": {
        "id": "mpoprVVISa39"
      },
      "execution_count": null,
      "outputs": []
    },
    {
      "cell_type": "code",
      "source": [
        "# Membaca dataset dari file CSV\n",
        "file_path = 'framingham.csv'  # Ganti dengan path ke file dataset Anda\n",
        "data = pd.read_csv(file_path)\n"
      ],
      "metadata": {
        "id": "zNNxnzOiSeSR"
      },
      "execution_count": null,
      "outputs": []
    },
    {
      "cell_type": "code",
      "source": [
        "# Pastikan memilih kolom yang relevan untuk clustering\n",
        "# Misalnya, jika dataset memiliki kolom 'feature1' dan 'feature2'\n",
        "X = data[['currentSmoker', 'age']].values\n"
      ],
      "metadata": {
        "id": "f0bDXAGdShpF"
      },
      "execution_count": null,
      "outputs": []
    },
    {
      "cell_type": "code",
      "source": [
        "# Opsional: Normalisasi data\n",
        "scaler = StandardScaler()\n",
        "X_scaled = scaler.fit_transform(X)"
      ],
      "metadata": {
        "id": "HzBel_6SSjY0"
      },
      "execution_count": null,
      "outputs": []
    },
    {
      "cell_type": "code",
      "source": [
        "# Menjalankan divisive clustering\n",
        "n_clusters = 2  # Jumlah cluster yang diinginkan\n",
        "clusters = divisive_clustering(X_scaled, n_clusters)"
      ],
      "metadata": {
        "colab": {
          "base_uri": "https://localhost:8080/"
        },
        "id": "QT_dryHVSlN9",
        "outputId": "4def1da4-83a1-4811-a907-ea081068cd38"
      },
      "execution_count": null,
      "outputs": [
        {
          "output_type": "stream",
          "name": "stderr",
          "text": [
            "/usr/local/lib/python3.10/dist-packages/sklearn/cluster/_kmeans.py:870: FutureWarning: The default value of `n_init` will change from 10 to 'auto' in 1.4. Set the value of `n_init` explicitly to suppress the warning\n",
            "  warnings.warn(\n"
          ]
        }
      ]
    },
    {
      "cell_type": "code",
      "source": [
        "# Plot hasil clustering\n",
        "plot_clusters(clusters)"
      ],
      "metadata": {
        "colab": {
          "base_uri": "https://localhost:8080/",
          "height": 472
        },
        "id": "cRhQyLnrSo1N",
        "outputId": "fb57fda7-58b1-495d-917f-c58e5bafaa45"
      },
      "execution_count": null,
      "outputs": [
        {
          "output_type": "display_data",
          "data": {
            "text/plain": [
              "<Figure size 640x480 with 1 Axes>"
            ],
            "image/png": "[encoded data removed]"
          },
          "metadata": {}
        }
      ]
    }
  ]
}